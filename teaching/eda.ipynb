{
  "cells": [
    {
      "cell_type": "raw",
      "metadata": {},
      "source": [
        "---\n",
        "title: Data Analysis\n",
        "image: ../img/eda.png\n",
        "page-layout: full\n",
        "about:\n",
        "  template: solana\n",
        "  image-width: 12em\n",
        "  image-shape: round\n",
        "---"
      ],
      "id": "dfea3702"
    },
    {
      "cell_type": "markdown",
      "metadata": {},
      "source": [
        "#### **Course description**"
      ],
      "id": "6bbb21f5"
    },
    {
      "cell_type": "raw",
      "metadata": {},
      "source": [
        "---\n",
        "\n",
        "Introduction to exploratory Data Analysis. Applications in Python using <a href=\"https://scikit-learn.org/stable/\" target=\"_blank\">scikit-learn </a>\n",
        "\n",
        "#### **Syllabus**\n",
        "---"
      ],
      "id": "49ca2579"
    },
    {
      "cell_type": "markdown",
      "metadata": {},
      "source": [
        "1. Some background in Statistics and probability\n",
        "2. Data cleaning, imputation, outliers, normalization\n",
        "3. Univariate, bivariate and multivariate data analysis\n",
        "4. Feature selection\n",
        "5. Linear feature extraction\n",
        "5. Clustering algorithms\n",
        "6. Linear and logistic regression\n",
        "\n",
        "\n",
        "#### **Example**\n",
        "\n",
        " Hierarchical clustering algorithm.\n"
      ],
      "id": "b9a3c314"
    },
    {
      "cell_type": "markdown",
      "metadata": {},
      "source": [
        "---"
      ],
      "id": "b4a99273"
    },
    {
      "cell_type": "code",
      "metadata": {},
      "source": [
        "import matplotlib\n",
        "import matplotlib.pyplot as plt\n",
        "\n",
        "from sklearn.datasets import make_blobs\n",
        "from sklearn.cluster import AgglomerativeClustering\n",
        "import numpy as np\n",
        "\n",
        "X, y = make_blobs(n_samples=50, centers=2,cluster_std = 0.3,random_state=42)\n",
        "from scipy.cluster.hierarchy import dendrogram\n",
        "\n",
        "def plot_dendrogram(modele, **kwargs):\n",
        "    plt.figure(figsize=(8,3))\n",
        "\n",
        "    children = modele.children_\n",
        "    distance = np.arange(children.shape[0])\n",
        "    # Nombre d'observations à chaque niveau de classes\n",
        "    nb_observations = np.arange(2, children.shape[0]+2)\n",
        "    linkage_matrix = np.column_stack([children, distance, nb_observations]).astype(float)\n",
        "\n",
        "    dendrogram(linkage_matrix, **kwargs)\n",
        "\n",
        "modele = AgglomerativeClustering(n_clusters=3,linkage=\"average\").fit(X)\n",
        "plot_dendrogram(modele, labels=modele.labels_)"
      ],
      "id": "59863094",
      "execution_count": null,
      "outputs": []
    }
  ],
  "metadata": {
    "kernelspec": {
      "name": "deepenv",
      "language": "python",
      "display_name": "deepenv"
    }
  },
  "nbformat": 4,
  "nbformat_minor": 5
}