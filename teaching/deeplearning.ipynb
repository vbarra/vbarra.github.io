{
  "cells": [
    {
      "cell_type": "raw",
      "metadata": {},
      "source": [
        "---\n",
        "title: Deep Learning\n",
        "image: ../img/bandeau.jpg\n",
        "page-layout: full\n",
        "about:\n",
        "  template: solana\n",
        "  image-width: 12em\n",
        "  image-shape: round\n",
        "---"
      ],
      "id": "1ae24714"
    },
    {
      "cell_type": "markdown",
      "metadata": {},
      "source": [
        "#### **Course description**"
      ],
      "id": "62c73408"
    },
    {
      "cell_type": "raw",
      "metadata": {},
      "source": [
        "---\n",
        "\n",
        "Introduction to Deep Learning. Concepts and main networks. Use cases in classification, regression, transfert learning, dimension reduction, data generation.\n",
        "\n",
        "#### **Syllabus**\n",
        "---"
      ],
      "id": "ea86d219"
    },
    {
      "cell_type": "markdown",
      "metadata": {},
      "source": [
        "1. Introduction to deep learning and to development tools (<a href=\"https://www.tensorflow.org/\" target=\"_blank\">Tensorflow </a> with <a href=\"http://keras.io/\" target=\"_blank\"> Keras </a> and <a href=\"https://colab.research.google.com/\" target=\"_blank\"> Google colab </a>)\n",
        "2. Perceptrons and MultiLayer Perceptrons\n",
        "3.  Convolutional Networks\n",
        "4.  Autoencoders\n",
        "5.  RNN, LSTM and GRU\n",
        "6.  Attention mechanisms and transformers\n",
        "7.  Transfert Learning\n",
        "8.  Generative models  - GAN, VAE and diffusion\n",
        "9.  Graph neural networks\n",
        "\n",
        "\n",
        "#### **Example**"
      ],
      "id": "fb6ffa4c"
    },
    {
      "cell_type": "markdown",
      "metadata": {},
      "source": [
        "---"
      ],
      "id": "61bd8e6e"
    },
    {
      "cell_type": "code",
      "metadata": {},
      "source": [
        "#| warning: false\n",
        "import numpy as np\n",
        "import matplotlib.pyplot as plt\n",
        "\n",
        "import tensorflow.keras as tk\n",
        "from tensorflow.keras import backend as K\n",
        "from tensorflow.keras.datasets import mnist\n",
        "\n",
        "from tensorflow.keras.layers import Conv2D, MaxPooling2D, UpSampling2D\n",
        "from tensorflow.keras.models import Model\n",
        "\n",
        "from tensorflow.keras.optimizers import Adam\n",
        "\n",
        "# MNIST dataset loading\n",
        "(x_train, y_train), (x_test, y_test) = mnist.load_data()\n",
        "\n",
        "# Number of samples in the training dataset\n",
        "num_examples = x_train.shape[0] \n",
        "# Number of samples in the test dataset\n",
        "num_test = x_test.shape[0]\n",
        "# Size of the input layer (retina) = number of pixels of the MNIST images (784 pixels)\n",
        "num_input = x_train.shape[1]*x_train.shape[2]\n",
        "# Number of classes ( the 10 digits : {0, 1, 2, 3, 4, 5, 6, 7, 8, 9})\n",
        "num_classes = 10\n",
        "\n",
        "# Width ( and height) of the images\n",
        "img_size = x_train.shape[1] \n",
        "# Size of (square) image\n",
        "img_shape = (img_size, img_size)\n",
        "\n",
        "# Reshape of datatsets in array and normalization\n",
        "x_train = x_train.astype('float32') / 255.\n",
        "x_test = x_test.astype('float32') / 255.\n",
        "x_train = np.reshape(x_train, (len(x_train), img_size, img_size, 1))\n",
        "x_test = np.reshape(x_test, (len(x_test), img_size, img_size, 1))\n",
        "\n",
        "# Add noise on training dataset\n",
        "noise = 0.5\n",
        "x_train_noised = x_train + noise * np.random.normal(loc=0.0, scale=1.0, size=x_train.shape) \n",
        "x_test_noised  = x_test  + noise * np.random.normal(loc=0.0, scale=1.0, size=x_test.shape) \n",
        "\n",
        "# Algorithm parameters\n",
        "lr = 0.001\n",
        "num_epochs = 5\n",
        "batch_size = 256\n",
        "\n",
        "# Model\n",
        "model = tk.models.Sequential()\n",
        "model.add(Conv2D(32, (3,3), activation='relu', padding='same', input_shape=(img_size,img_size,1)))\n",
        "model.add(MaxPooling2D((2,2), padding='same'))\n",
        "model.add(Conv2D(64, (3,3), activation='relu', padding='same'))\n",
        "model.add(MaxPooling2D((2,2), padding='same'))\n",
        "          \n",
        "model.add(Conv2D(64, (3,3), activation='relu', padding='same'))\n",
        "model.add(UpSampling2D((2,2)))\n",
        "model.add(Conv2D(32, (3,3), activation='relu', padding='same'))\n",
        "model.add(UpSampling2D((2,2)))\n",
        "model.add(Conv2D(1,(3,3), activation='sigmoid', padding='same'))\n",
        "\n",
        "# Training\n",
        "adam = Adam(lr)\n",
        "model.compile(optimizer=adam, loss='binary_crossentropy',metrics=['acc'])\n",
        "model.fit(x_train_noised,x_train,epochs=num_epochs,batch_size=batch_size,verbose=0,validation_data=(x_test_noised, x_test))\n",
        "\n",
        "\n",
        "# Denoised test images \n",
        "denoised_img = model.predict(x_test_noised)\n",
        "plt.figure(figsize=(40, 4))\n",
        "for i in range(10):\n",
        "    ax = plt.subplot(3, 20, i + 1)\n",
        "    ax.get_xaxis().set_visible(False)\n",
        "    ax.get_yaxis().set_visible(False)\n",
        "    ax.set_title(\"Noisy image\")\n",
        "    plt.imshow(x_test_noised[i].reshape(img_size, img_size))\n",
        "    \n",
        "    ax = plt.subplot(3, 20, 40 +i+ 1)\n",
        "    ax.get_xaxis().set_visible(False)\n",
        "    ax.get_yaxis().set_visible(False)\n",
        "    ax.set_title(\"Denoised image\")\n",
        "    plt.imshow(denoised_img[i].reshape(img_size, img_size))\n",
        "\n",
        "plt.tight_layout()"
      ],
      "id": "c109d816",
      "execution_count": null,
      "outputs": []
    }
  ],
  "metadata": {
    "kernelspec": {
      "name": "python3",
      "language": "python",
      "display_name": "Python 3.9"
    }
  },
  "nbformat": 4,
  "nbformat_minor": 5
}