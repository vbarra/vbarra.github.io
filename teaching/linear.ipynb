{
  "cells": [
    {
      "cell_type": "raw",
      "metadata": {},
      "source": [
        "---\n",
        "title: Linear algebra\n",
        "image: ../img/linear.png\n",
        "page-layout: full\n",
        "about:\n",
        "  template: solana\n",
        "  image-width: 12em\n",
        "  image-shape: round\n",
        "---"
      ],
      "id": "db69a171"
    },
    {
      "cell_type": "markdown",
      "metadata": {},
      "source": [
        "#### **Course description**"
      ],
      "id": "7334d189"
    },
    {
      "cell_type": "raw",
      "metadata": {},
      "source": [
        "---\n",
        "\n",
        "Numerical analysis: a linear algebra perspective. How to solve linear systems with applications to least squares and eigen analysis.\n",
        "\n",
        "#### **Syllabus**\n",
        "---"
      ],
      "id": "63b7c02d"
    },
    {
      "cell_type": "markdown",
      "metadata": {},
      "source": [
        "1. A primer on linear algebra\n",
        "2. Linear systems\n",
        "3. Numerical stability\n",
        "4. Least squares and orthogonal transformations\n",
        "5. Eigenanalysis\n",
        "6. Positive definite matrices\n",
        "7. Introduction to optimisation in finite dimension\n",
        "\n",
        "\n",
        "\n",
        "\n",
        "\n",
        "#### **Example**\n",
        "\n",
        "Gradient descent on the Branin function\n",
        "$$f(x)=a(x_2-bx^{2}_1+cx_1-r)+s(1-t)cos(x_1)+s$$"
      ],
      "id": "13525781"
    },
    {
      "cell_type": "markdown",
      "metadata": {},
      "source": [
        "---"
      ],
      "id": "1a152426"
    },
    {
      "cell_type": "code",
      "metadata": {},
      "source": [
        "import numpy as np\n",
        "import matplotlib.pyplot as plt\n",
        "\n",
        "def branin(x):\n",
        "    x1 = x[0]\n",
        "    x2 = x[1]\n",
        "    a = 1.\n",
        "    b = 5.1 / (4.*np.pi**2)\n",
        "    c = 5. / np.pi\n",
        "    r = 6.\n",
        "    s = 10.\n",
        "    t = 1. / (8.*np.pi)\n",
        "    ret  = a*(x2-b*x1**2+c*x1-r)**2+s*(1-t)*np.cos(x1)+s\n",
        "    return ret\n",
        "\n",
        "def grad_branin(x):\n",
        "    x1 = x[0]\n",
        "    x2 = x[1]\n",
        "    a = 1.\n",
        "    b = 5.1 / (4.*np.pi**2)\n",
        "    c = 5. / np.pi\n",
        "    r = 6.\n",
        "    s = 10.\n",
        "    t = 1. / (8.*np.pi)\n",
        "    # d  = a*(x2-b*x1**2+c*x1-r)**2 + s*(1-t)*np.cos(x1)+s\n",
        "    d1 = (-2*b*x1 + c)*a*2*(x2-b*x1**2+c*x1-r) - s*(1-t)*np.sin(x1)\n",
        "    d2 = 2 * a * (x2-b*x1**2+c*x1-r)\n",
        "    return d1, d2\n",
        "    \n",
        "\n",
        "range_x = np.linspace(-5, 10, 100)\n",
        "range_y = np.linspace(0, 15, 100)\n",
        "xx, yy = np.meshgrid(range_x, range_y)\n",
        "res = np.array([branin(x) for x in zip(xx.ravel(), yy.ravel())])\n",
        "res = res.reshape(xx.shape)\n",
        "\n",
        "fig, axes = plt.subplots(1, 3, figsize=(10, 5), dpi=100)\n",
        "for ax, pas in zip(axes, [0.001, 0.1, 0.3]):\n",
        "    ax.set_title(\"step={}\".format(pas))\n",
        "    ax.imshow(res, origin=\"lower\", extent=(range_x[0], range_x[-1], range_y[0], range_y[-1]))\n",
        "    x = np.array((6, 14))\n",
        "    for i in range(30):\n",
        "        step = -pas * np.array(grad_branin(x))\n",
        "        ax.arrow(x[0], x[1], step[0], step[1], color='r', head_width=0.2, length_includes_head=True)\n",
        "        x = x + step\n",
        "    print(\"step=\",str(pas), \" x=\",str(x),\"f(x)=\",str(branin(x)))\n",
        "plt.tight_layout()"
      ],
      "id": "4b06bd72",
      "execution_count": null,
      "outputs": []
    }
  ],
  "metadata": {
    "kernelspec": {
      "name": "deepenv",
      "language": "python",
      "display_name": "deepenv"
    }
  },
  "nbformat": 4,
  "nbformat_minor": 5
}